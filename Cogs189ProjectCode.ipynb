{
 "cells": [
  {
   "cell_type": "code",
   "execution_count": 1,
   "metadata": {},
   "outputs": [],
   "source": [
    "import os\n",
    "\n",
    "def convertToTxt(path):\n",
    "    for i in os.listdir(path):\n",
    "        os.rename(dir + \"/\" + i, dir + \"/\" + i + \".txt\")\n",
    "        \n"
   ]
  },
  {
   "cell_type": "code",
   "execution_count": 2,
   "metadata": {},
   "outputs": [],
   "source": [
    "#get all files in directory\n",
    "def filesInDirectory(path):\n",
    "    files = []\n",
    "    for i in os.listdir(path):\n",
    "        files.append(path  + \"/\" + i)\n",
    "    return files\n"
   ]
  },
  {
   "cell_type": "code",
   "execution_count": 3,
   "metadata": {},
   "outputs": [],
   "source": [
    "#Now using pandas we will read each data trail and save it to an array of datasets that contain the eeg singal for each channel\n",
    "import pandas as pd\n",
    "import numpy as np\n"
   ]
  },
  {
   "cell_type": "code",
   "execution_count": 4,
   "metadata": {},
   "outputs": [],
   "source": [
    "\n",
    "def collectTrialData(TrialNumber):\n",
    "    with open(SubjectTrialDataset[TrialNumber]) as f:\n",
    "        lines = f.readlines()\n",
    "\n",
    "    del lines[0:4]\n",
    "    count = 0\n",
    "    valsPerCol = []\n",
    "    channels = [[0]* 256 for _ in range(64)]\n",
    "\n",
    "    i = 0\n",
    "    for line in lines:\n",
    "        if(line[0] == \"#\"):   \n",
    "            line = line.replace(\"#\", \"\")\n",
    "            line = line.replace(\"\\n\", \"\")\n",
    "            line = line.replace(\",\", \"\")\n",
    "            line = line.lstrip()\n",
    "            channels[i][0] = line\n",
    "            i += 1  \n",
    "        #print(count)\n",
    "    #print(channels)\n",
    "    currChan = -1\n",
    "    for line in lines:\n",
    "        count += 1\n",
    "        count = count % 257\n",
    "        if(count == 1):\n",
    "            #print(valsPerCol)\n",
    "            currChan += 1\n",
    "            z = 0\n",
    "        #Data from cols\n",
    "        \n",
    "        if(count != 1):\n",
    "            z += 1\n",
    "            work = line.split(\" \")\n",
    "            #print(z-1)\n",
    "            b = 0\n",
    "            for w in work:\n",
    "                b += 1\n",
    "                b = b % 4\n",
    "                if(b == 0):\n",
    "                \n",
    "                    channels[currChan][z-1] = w\n",
    "\n",
    "    #Channel[channelNumber][Sample Number] = eegSignal\n",
    "    #print(channels[0][0])\n",
    "    return channels\n"
   ]
  },
  {
   "cell_type": "code",
   "execution_count": 5,
   "metadata": {},
   "outputs": [
    {
     "ename": "FileNotFoundError",
     "evalue": "[WinError 3] The system cannot find the path specified: 'Alcoholics/co2a0000364'",
     "output_type": "error",
     "traceback": [
      "\u001b[1;31m---------------------------------------------------------------------------\u001b[0m",
      "\u001b[1;31mFileNotFoundError\u001b[0m                         Traceback (most recent call last)",
      "\u001b[1;32m~\\AppData\\Local\\Temp/ipykernel_103164/2952699128.py\u001b[0m in \u001b[0;36m<module>\u001b[1;34m\u001b[0m\n\u001b[0;32m      2\u001b[0m \u001b[0mpath\u001b[0m \u001b[1;33m=\u001b[0m \u001b[1;34m\"Alcoholics/co2a0000364\"\u001b[0m\u001b[1;33m\u001b[0m\u001b[1;33m\u001b[0m\u001b[0m\n\u001b[0;32m      3\u001b[0m \u001b[1;31m#This contains an array of each trial for a subject\u001b[0m\u001b[1;33m\u001b[0m\u001b[1;33m\u001b[0m\u001b[1;33m\u001b[0m\u001b[0m\n\u001b[1;32m----> 4\u001b[1;33m \u001b[0mSubjectTrialDataset\u001b[0m \u001b[1;33m=\u001b[0m \u001b[0mfilesInDirectory\u001b[0m\u001b[1;33m(\u001b[0m\u001b[0mpath\u001b[0m\u001b[1;33m)\u001b[0m\u001b[1;33m\u001b[0m\u001b[1;33m\u001b[0m\u001b[0m\n\u001b[0m\u001b[0;32m      5\u001b[0m \u001b[1;33m\u001b[0m\u001b[0m\n\u001b[0;32m      6\u001b[0m \u001b[1;31m#Data set is stored in a matrix where first value is column and second value is sample number\u001b[0m\u001b[1;33m\u001b[0m\u001b[1;33m\u001b[0m\u001b[1;33m\u001b[0m\u001b[0m\n",
      "\u001b[1;32m~\\AppData\\Local\\Temp/ipykernel_103164/1610913275.py\u001b[0m in \u001b[0;36mfilesInDirectory\u001b[1;34m(path)\u001b[0m\n\u001b[0;32m      2\u001b[0m \u001b[1;32mdef\u001b[0m \u001b[0mfilesInDirectory\u001b[0m\u001b[1;33m(\u001b[0m\u001b[0mpath\u001b[0m\u001b[1;33m)\u001b[0m\u001b[1;33m:\u001b[0m\u001b[1;33m\u001b[0m\u001b[1;33m\u001b[0m\u001b[0m\n\u001b[0;32m      3\u001b[0m     \u001b[0mfiles\u001b[0m \u001b[1;33m=\u001b[0m \u001b[1;33m[\u001b[0m\u001b[1;33m]\u001b[0m\u001b[1;33m\u001b[0m\u001b[1;33m\u001b[0m\u001b[0m\n\u001b[1;32m----> 4\u001b[1;33m     \u001b[1;32mfor\u001b[0m \u001b[0mi\u001b[0m \u001b[1;32min\u001b[0m \u001b[0mos\u001b[0m\u001b[1;33m.\u001b[0m\u001b[0mlistdir\u001b[0m\u001b[1;33m(\u001b[0m\u001b[0mpath\u001b[0m\u001b[1;33m)\u001b[0m\u001b[1;33m:\u001b[0m\u001b[1;33m\u001b[0m\u001b[1;33m\u001b[0m\u001b[0m\n\u001b[0m\u001b[0;32m      5\u001b[0m         \u001b[0mfiles\u001b[0m\u001b[1;33m.\u001b[0m\u001b[0mappend\u001b[0m\u001b[1;33m(\u001b[0m\u001b[0mpath\u001b[0m  \u001b[1;33m+\u001b[0m \u001b[1;34m\"/\"\u001b[0m \u001b[1;33m+\u001b[0m \u001b[0mi\u001b[0m\u001b[1;33m)\u001b[0m\u001b[1;33m\u001b[0m\u001b[1;33m\u001b[0m\u001b[0m\n\u001b[0;32m      6\u001b[0m     \u001b[1;32mreturn\u001b[0m \u001b[0mfiles\u001b[0m\u001b[1;33m\u001b[0m\u001b[1;33m\u001b[0m\u001b[0m\n",
      "\u001b[1;31mFileNotFoundError\u001b[0m: [WinError 3] The system cannot find the path specified: 'Alcoholics/co2a0000364'"
     ]
    }
   ],
   "source": [
    "#This method is to store the data from subject into a dataset we can view\n",
    "path = \"Alcoholics/co2a0000364\"\n",
    "#This contains an array of each trial for a subject\n",
    "SubjectTrialDataset = filesInDirectory(path)\n",
    "\n",
    "#Data set is stored in a matrix where first value is column and second value is sample number\n",
    "# FP1 FP2 ...\n",
    "# -1  -3.2\n",
    "# ..  .. \n",
    "\n",
    "print(SubjectTrialDataset[1])\n",
    "#This method generates all trial data for set person\n",
    "listOfAllTrials = []\n",
    "for i in range(30):\n",
    "    listOfAllTrials.append(collectTrialData(i))\n",
    "val = listOfAllTrials[1]\n",
    "print(val[0][0])\n",
    "\n",
    "\n"
   ]
  }
 ],
 "metadata": {
  "interpreter": {
   "hash": "409fd63ae0ed843f46d52ddbf6d5110d5f4156ce680b24ebaeed7f1f43c8d2b4"
  },
  "kernelspec": {
   "display_name": "Python 3.9.4 64-bit",
   "language": "python",
   "name": "python3"
  },
  "language_info": {
   "codemirror_mode": {
    "name": "ipython",
    "version": 3
   },
   "file_extension": ".py",
   "mimetype": "text/x-python",
   "name": "python",
   "nbconvert_exporter": "python",
   "pygments_lexer": "ipython3",
   "version": "3.9.4"
  },
  "orig_nbformat": 4
 },
 "nbformat": 4,
 "nbformat_minor": 2
}
