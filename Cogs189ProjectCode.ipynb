{
 "cells": [
  {
   "cell_type": "code",
   "execution_count": 154,
   "metadata": {},
   "outputs": [],
   "source": [
    "import os\n",
    "\n",
    "def convertToTxt(path):\n",
    "    for i in os.listdir(path):\n",
    "        os.rename(dir + \"/\" + i, dir + \"/\" + i + \".txt\")\n",
    "        \n"
   ]
  },
  {
   "cell_type": "code",
   "execution_count": 155,
   "metadata": {},
   "outputs": [],
   "source": [
    "#get all files in directory\n",
    "def filesInDirectory(path):\n",
    "    files = []\n",
    "    for i in os.listdir(path):\n",
    "        files.append(path  + \"/\" + i)\n",
    "    return files\n"
   ]
  },
  {
   "cell_type": "code",
   "execution_count": 156,
   "metadata": {},
   "outputs": [],
   "source": [
    "#Now using pandas we will read each data trail and save it to an array of datasets that contain the eeg singal for each channel\n",
    "import pandas as pd\n",
    "import numpy as np\n"
   ]
  },
  {
   "cell_type": "code",
   "execution_count": 157,
   "metadata": {},
   "outputs": [],
   "source": [
    "\n",
    "def collectTrialData(TrialNumber):\n",
    "    with open(SubjectTrialDataset[TrialNumber]) as f:\n",
    "        lines = f.readlines()\n",
    "\n",
    "    del lines[0:4]\n",
    "    count = 0\n",
    "    valsPerCol = []\n",
    "    channels = [[0]* 256 for _ in range(64)]\n",
    "    \n",
    "    i = 0  \n",
    "    for line in lines:\n",
    "        if(line[0] == \"#\"):   \n",
    "            line = line.replace(\"#\", \"\")\n",
    "            line = line.replace(\"\\n\", \"\")\n",
    "            line = line.replace(\",\", \"\")\n",
    "            line = line.lstrip()\n",
    "            channels[i][0] = line\n",
    "            i += 1  \n",
    "        #print(count)\n",
    "    #print(channels)\n",
    "    currChan = -1\n",
    "    for line in lines:\n",
    "        count += 1\n",
    "        count = count % 257\n",
    "        if(count == 1):\n",
    "            #print(valsPerCol)\n",
    "            currChan += 1\n",
    "            z = 0\n",
    "        #Data from cols\n",
    "        \n",
    "        if(count != 1):\n",
    "            z += 1\n",
    "            work = line.split(\" \")\n",
    "            #print(z-1)\n",
    "            b = 0\n",
    "            for w in work:\n",
    "                b += 1\n",
    "                b = b % 4\n",
    "                if(b == 0):\n",
    "                \n",
    "                    channels[currChan][z-1] = w\n",
    "\n",
    "    #Channel[channelNumber][Sample Number] = eegSignal\n",
    "    #print(channels[0][0])\n",
    "    return channels\n"
   ]
  },
  {
   "cell_type": "code",
   "execution_count": 158,
   "metadata": {},
   "outputs": [],
   "source": [
    "#Master Dir\n",
    "MasterDirectory = []\n"
   ]
  },
  {
   "cell_type": "code",
   "execution_count": 159,
   "metadata": {},
   "outputs": [],
   "source": [
    "#Generate an array of all subjects\n",
    "peopleDir = []\n",
    "def getPeople(path):\n",
    "    for b in os.listdir(path):\n",
    "        peopleDir.append(b)\n",
    "       # print(b)\n",
    "    return peopleDir\n"
   ]
  },
  {
   "cell_type": "code",
   "execution_count": 160,
   "metadata": {},
   "outputs": [
    {
     "ename": "IndexError",
     "evalue": "list index out of range",
     "output_type": "error",
     "traceback": [
      "\u001b[1;31m---------------------------------------------------------------------------\u001b[0m",
      "\u001b[1;31mIndexError\u001b[0m                                Traceback (most recent call last)",
      "\u001b[1;32m~\\AppData\\Local\\Temp/ipykernel_6440/3421327853.py\u001b[0m in \u001b[0;36m<module>\u001b[1;34m\u001b[0m\n\u001b[0;32m     24\u001b[0m     \u001b[1;31m#print(SubjectTrialDataset)\u001b[0m\u001b[1;33m\u001b[0m\u001b[1;33m\u001b[0m\u001b[1;33m\u001b[0m\u001b[0m\n\u001b[0;32m     25\u001b[0m     \u001b[1;32mfor\u001b[0m \u001b[0mi\u001b[0m \u001b[1;32min\u001b[0m \u001b[0mrange\u001b[0m\u001b[1;33m(\u001b[0m\u001b[0mlen\u001b[0m\u001b[1;33m(\u001b[0m\u001b[0mSubjectTrialDataset\u001b[0m\u001b[1;33m)\u001b[0m\u001b[1;33m)\u001b[0m\u001b[1;33m:\u001b[0m\u001b[1;33m\u001b[0m\u001b[1;33m\u001b[0m\u001b[0m\n\u001b[1;32m---> 26\u001b[1;33m         \u001b[0minfo\u001b[0m\u001b[1;33m.\u001b[0m\u001b[0mappend\u001b[0m\u001b[1;33m(\u001b[0m\u001b[0mcollectTrialData\u001b[0m\u001b[1;33m(\u001b[0m\u001b[0mi\u001b[0m\u001b[1;33m)\u001b[0m\u001b[1;33m)\u001b[0m\u001b[1;33m\u001b[0m\u001b[1;33m\u001b[0m\u001b[0m\n\u001b[0m\u001b[0;32m     27\u001b[0m     \u001b[0mMasterDirectory\u001b[0m\u001b[1;33m.\u001b[0m\u001b[0mappend\u001b[0m\u001b[1;33m(\u001b[0m\u001b[0minfo\u001b[0m\u001b[1;33m)\u001b[0m\u001b[1;33m\u001b[0m\u001b[1;33m\u001b[0m\u001b[0m\n\u001b[0;32m     28\u001b[0m \u001b[1;33m\u001b[0m\u001b[0m\n",
      "\u001b[1;32m~\\AppData\\Local\\Temp/ipykernel_6440/3788708675.py\u001b[0m in \u001b[0;36mcollectTrialData\u001b[1;34m(TrialNumber)\u001b[0m\n\u001b[0;32m     17\u001b[0m             \u001b[0mline\u001b[0m \u001b[1;33m=\u001b[0m \u001b[0mline\u001b[0m\u001b[1;33m.\u001b[0m\u001b[0mreplace\u001b[0m\u001b[1;33m(\u001b[0m\u001b[1;34m\",\"\u001b[0m\u001b[1;33m,\u001b[0m \u001b[1;34m\"\"\u001b[0m\u001b[1;33m)\u001b[0m\u001b[1;33m\u001b[0m\u001b[1;33m\u001b[0m\u001b[0m\n\u001b[0;32m     18\u001b[0m             \u001b[0mline\u001b[0m \u001b[1;33m=\u001b[0m \u001b[0mline\u001b[0m\u001b[1;33m.\u001b[0m\u001b[0mlstrip\u001b[0m\u001b[1;33m(\u001b[0m\u001b[1;33m)\u001b[0m\u001b[1;33m\u001b[0m\u001b[1;33m\u001b[0m\u001b[0m\n\u001b[1;32m---> 19\u001b[1;33m             \u001b[0mchannels\u001b[0m\u001b[1;33m[\u001b[0m\u001b[0mi\u001b[0m\u001b[1;33m]\u001b[0m\u001b[1;33m[\u001b[0m\u001b[1;36m0\u001b[0m\u001b[1;33m]\u001b[0m \u001b[1;33m=\u001b[0m \u001b[0mline\u001b[0m\u001b[1;33m\u001b[0m\u001b[1;33m\u001b[0m\u001b[0m\n\u001b[0m\u001b[0;32m     20\u001b[0m             \u001b[0mi\u001b[0m \u001b[1;33m+=\u001b[0m \u001b[1;36m1\u001b[0m\u001b[1;33m\u001b[0m\u001b[1;33m\u001b[0m\u001b[0m\n\u001b[0;32m     21\u001b[0m         \u001b[1;31m#print(count)\u001b[0m\u001b[1;33m\u001b[0m\u001b[1;33m\u001b[0m\u001b[1;33m\u001b[0m\u001b[0m\n",
      "\u001b[1;31mIndexError\u001b[0m: list index out of range"
     ]
    }
   ],
   "source": [
    "#This method is to store the data from every single subject into a dataset we can view\n",
    "path = \"Subjects\"\n",
    "\n",
    "#listOfPeople = []\n",
    "listOfPeople = getPeople(path)\n",
    "\n",
    "#Contains an array of each subject trial number[Varies]\n",
    "listOfTrials = []\n",
    "\n",
    "#Conditions \n",
    "conditionVals = []\n",
    "\n",
    "for people in listOfPeople:\n",
    "    listOfTrials = filesInDirectory(path)\n",
    "\n",
    "info = []\n",
    "#Get trialData from each person\n",
    "counter = 0\n",
    "for a in listOfTrials:\n",
    "    counter += 1\n",
    "    allData = []\n",
    "    #print(a)\n",
    "    SubjectTrialDataset = filesInDirectory(a)\n",
    "    #print(SubjectTrialDataset)\n",
    "    for i in range(len(SubjectTrialDataset)):\n",
    "        info.append(collectTrialData(i))\n",
    "    MasterDirectory.append(info)\n",
    "    \n",
    "\n",
    "MasterDirectory = info\n",
    "\n",
    "#MasterDirectory[1]\n",
    "#print(listOfTrials)\n",
    "        #this method gets the number of individual trials\n",
    "\n",
    "\n",
    "\n",
    "#This contains an array of each trial for a subject\n",
    "\n",
    "\n",
    "\n",
    "\n",
    "#Data set is stored in a matrix where first value is column and second value is sample number\n",
    "# FP1 FP2 ...\n",
    "# -1  -3.2\n",
    "# ..  .. \n",
    "\n",
    "#print(SubjectTrialDataset[0])\n",
    "#This method generates all trial data for set person\n",
    "#listOfAllTrials = []\n",
    "#change 30 this is not always the case\n",
    "#for i in range(30):\n",
    "#    listOfAllTrials.append(collectTrialData(i))\n",
    "\n",
    "\n",
    "\n",
    "\n",
    "#val = listOfAllTrials[1]\n",
    "#print(val[0][0])\n"
   ]
  },
  {
   "cell_type": "code",
   "execution_count": null,
   "metadata": {},
   "outputs": [],
   "source": []
  },
  {
   "cell_type": "code",
   "execution_count": null,
   "metadata": {},
   "outputs": [],
   "source": [
    "#MASTER Array of all subjects [Subject number 1-122]\n",
    "    ##Contains an array of each subject trial number[Varies]\n",
    "        ##Contains Conditions (3 columns [1 is single object][2 is 2 object matching][3 is 2 object no match])\n",
    "            ##Contains matrix that has [Channel][Sample number]\n",
    "\n",
    "#Solution array of alcoholic/Control\n"
   ]
  }
 ],
 "metadata": {
  "interpreter": {
   "hash": "409fd63ae0ed843f46d52ddbf6d5110d5f4156ce680b24ebaeed7f1f43c8d2b4"
  },
  "kernelspec": {
   "display_name": "Python 3.9.4 64-bit",
   "language": "python",
   "name": "python3"
  },
  "language_info": {
   "codemirror_mode": {
    "name": "ipython",
    "version": 3
   },
   "file_extension": ".py",
   "mimetype": "text/x-python",
   "name": "python",
   "nbconvert_exporter": "python",
   "pygments_lexer": "ipython3",
   "version": "3.9.4"
  },
  "orig_nbformat": 4
 },
 "nbformat": 4,
 "nbformat_minor": 2
}
