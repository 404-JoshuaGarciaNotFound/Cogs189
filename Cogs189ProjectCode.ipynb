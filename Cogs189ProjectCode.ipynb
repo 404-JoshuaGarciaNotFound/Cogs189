{
 "cells": [
  {
   "cell_type": "code",
   "execution_count": 81,
   "metadata": {},
   "outputs": [],
   "source": [
    "#*** this project is ZERO BASED index. Subject 1 is index 0 and subject 122 is index 121 ***"
   ]
  },
  {
   "cell_type": "code",
   "execution_count": 82,
   "metadata": {},
   "outputs": [],
   "source": [
    "import os\n",
    "\n",
    "def convertToTxt(path):\n",
    "    for i in os.listdir(path):\n",
    "        os.rename(dir + \"/\" + i, dir + \"/\" + i + \".txt\")\n",
    "        \n"
   ]
  },
  {
   "cell_type": "code",
   "execution_count": 83,
   "metadata": {},
   "outputs": [],
   "source": [
    "#get all files in directory\n",
    "def filesInDirectory(path):\n",
    "    files = []\n",
    "    for i in os.listdir(path):\n",
    "        files.append(path  + \"/\" + i)\n",
    "    return files"
   ]
  },
  {
   "cell_type": "code",
   "execution_count": 84,
   "metadata": {},
   "outputs": [],
   "source": [
    "#Now using pandas we will read each data trail and save it to an array of datasets that contain the eeg singal for each channel\n",
    "import pandas as pd\n",
    "import numpy as np"
   ]
  },
  {
   "cell_type": "code",
   "execution_count": 85,
   "metadata": {},
   "outputs": [],
   "source": [
    "#This method is responsible for comiling a list of all of the samples\n",
    "def collectTrialData(TrialNumber):\n",
    "    with open(SubjectTrialDataset[TrialNumber]) as f:\n",
    "        lines = f.readlines()\n",
    "    channels = [[0] * 257 for _ in range(65)]\n",
    "    #This method classfies which trail is stimuli\n",
    "    for word in lines:\n",
    "        if(word[2] == \"S\"):\n",
    "            if(word[3] == \"1\"):\n",
    "                channels[64][256] = \"oneObject\"\n",
    "            if(word[3] == \"2\"):\n",
    "                if(word[5] == \"m\"):\n",
    "                    channels[64][256] = \"twoObjectMatch\"\n",
    "                else:\n",
    "                    channels[64][256] = \"twoObjectNoMatch\"\n",
    "    #Clear top lines of code\n",
    "    del lines[0:4]\n",
    "    count = 0\n",
    "    i = 0  \n",
    "    #cleans out eeg data\n",
    "    for line in lines:\n",
    "        if(line[0] == \"#\"):   \n",
    "            line = line.replace(\"#\", \"\")\n",
    "            line = line.replace(\"\\n\", \"\")\n",
    "            line = line.replace(\",\", \"\")\n",
    "            line = line.lstrip()\n",
    "            channels[i][0] = line\n",
    "            i += 1  \n",
    "        #print(count)\n",
    "    #print(channels)\n",
    "    currChan = -1\n",
    "    #Saves each eeg value to the matrix. \n",
    "    for line in lines:\n",
    "        count += 1\n",
    "        count = count % 257\n",
    "        if(count == 1):\n",
    "            #print(valsPerCol)\n",
    "            currChan += 1\n",
    "            z = 0\n",
    "        #Data from cols\n",
    "        if(count != 1):\n",
    "            z += 1\n",
    "            work = line.split(\" \")\n",
    "            #print(z-1)\n",
    "            b = 0\n",
    "            for w in work:\n",
    "                b += 1\n",
    "                b = b % 4\n",
    "                if(b == 0):\n",
    "                    channels[currChan][z-1] = w\n",
    "    #Channel[channelNumber][Sample Number] = eegSignal\n",
    "    #print(channels[0][0])\n",
    "    return channels"
   ]
  },
  {
   "cell_type": "code",
   "execution_count": 86,
   "metadata": {},
   "outputs": [],
   "source": [
    "\n",
    "def getPeople(path):\n",
    "    listOFPeps = []\n",
    "    for a in os.listdir(path):\n",
    "        listOFPeps.append(a)\n",
    "    return listOFPeps"
   ]
  },
  {
   "cell_type": "code",
   "execution_count": 87,
   "metadata": {},
   "outputs": [],
   "source": [
    "listOfPeople = []\n"
   ]
  },
  {
   "cell_type": "code",
   "execution_count": 88,
   "metadata": {},
   "outputs": [],
   "source": [
    "#returns number oof trials for the index number of subject ie 0 is subject 1\n",
    "def getNumTrials(index):\n",
    "    #print(listOfPeople[index])\n",
    "    return (len(filesInDirectory(\"Subjects/\" + listOfPeople[index])))\n",
    "    "
   ]
  },
  {
   "cell_type": "code",
   "execution_count": 89,
   "metadata": {},
   "outputs": [
    {
     "name": "stdout",
     "output_type": "stream",
     "text": [
      "5\n"
     ]
    }
   ],
   "source": [
    "#This method is to store the data from every single subject into a dataset we can view\n",
    "path = \"Subjects\"\n",
    "MasterDirectory = []\n",
    "#listOfPeople = []\n",
    "listOfPeople = getPeople(path)\n",
    "#Contains an array of each subject trial number[Varies]\n",
    "listOfTrials = []\n",
    "#Conditions \n",
    "conditionVals = []\n",
    "for people in listOfPeople:\n",
    "    listOfTrials = filesInDirectory(path)\n",
    "info = []\n",
    "#Get trialData from each person\n",
    "counter = 0\n",
    "for a in listOfTrials:\n",
    "    counter += 1\n",
    "    allData = []\n",
    "    #print(a)\n",
    "    SubjectTrialDataset = filesInDirectory(a)\n",
    "    #print(SubjectTrialDataset)\n",
    "    for i in range(len(SubjectTrialDataset)):\n",
    "        info.append(collectTrialData(i))\n",
    "    MasterDirectory.append(info)\n",
    "#print(len(values))\n",
    "#This is how many subjects have been detected\n",
    "print(len(listOfPeople))"
   ]
  },
  {
   "cell_type": "code",
   "execution_count": 90,
   "metadata": {},
   "outputs": [
    {
     "data": {
      "text/plain": [
       "'twoObjectNoMatch'"
      ]
     },
     "execution_count": 90,
     "metadata": {},
     "output_type": "execute_result"
    }
   ],
   "source": [
    "#Example of how to view someones data\n",
    "subject = MasterDirectory[0] #Indicate which subject you want to view\n",
    "TrialNum = subject[10] #Select which trial you want to see\n",
    "TrialNum[64][256] #See the specific eeg power value\n"
   ]
  },
  {
   "cell_type": "code",
   "execution_count": 91,
   "metadata": {},
   "outputs": [
    {
     "data": {
      "text/plain": [
       "30"
      ]
     },
     "execution_count": 91,
     "metadata": {},
     "output_type": "execute_result"
    }
   ],
   "source": [
    "numberOftrials = getNumTrials(0) #Use this method to see how many trials are avaliable for each subject\n",
    "numberOftrials"
   ]
  },
  {
   "cell_type": "code",
   "execution_count": 92,
   "metadata": {},
   "outputs": [],
   "source": [
    "#MASTER Array of all subjects [Subject number 1-122]\n",
    "    ##Contains an array of each subject trial number[Varies]\n",
    "        ##Contains matrix that has [Channel][Sample number]\n",
    "            #NOTE index [64][256] is condition number\n",
    "#Solution array of alcoholic/Control"
   ]
  }
 ],
 "metadata": {
  "interpreter": {
   "hash": "409fd63ae0ed843f46d52ddbf6d5110d5f4156ce680b24ebaeed7f1f43c8d2b4"
  },
  "kernelspec": {
   "display_name": "Python 3.9.4 64-bit",
   "language": "python",
   "name": "python3"
  },
  "language_info": {
   "codemirror_mode": {
    "name": "ipython",
    "version": 3
   },
   "file_extension": ".py",
   "mimetype": "text/x-python",
   "name": "python",
   "nbconvert_exporter": "python",
   "pygments_lexer": "ipython3",
   "version": "3.9.4"
  },
  "orig_nbformat": 4
 },
 "nbformat": 4,
 "nbformat_minor": 2
}
